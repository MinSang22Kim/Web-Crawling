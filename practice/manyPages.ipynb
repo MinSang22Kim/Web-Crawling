{
 "cells": [
  {
   "cell_type": "code",
   "execution_count": 1,
   "metadata": {},
   "outputs": [
    {
     "name": "stdout",
     "output_type": "stream",
     "text": [
      "1\n",
      "2\n",
      "3\n",
      "4\n"
     ]
    }
   ],
   "source": [
    "for i in range(1, 5):\n",
    "    print(i)"
   ]
  },
  {
   "cell_type": "code",
   "execution_count": 3,
   "metadata": {},
   "outputs": [
    {
     "data": {
      "text/plain": [
       "'하잉 내 이름은 피카츄이고, 나이는 3살이야~!'"
      ]
     },
     "execution_count": 3,
     "metadata": {},
     "output_type": "execute_result"
    }
   ],
   "source": [
    "name = \"피카츄\"\n",
    "age = 3\n",
    "greeting = f\"하잉 내 이름은 {name}이고, 나이는 {age}살이야~!\"\n",
    "greeting"
   ]
  },
  {
   "cell_type": "code",
   "execution_count": 4,
   "metadata": {},
   "outputs": [
    {
     "name": "stdout",
     "output_type": "stream",
     "text": [
      "모니터 주연테크 54.6cm FHD LED 모니터 100Hz, V22FX(일반) #product31_detail.html 89000\n",
      "모니터 LG전자 60.4cm FHD 모니터, 24MQ400C #product32_detail.html 145000\n",
      "모니터 KOORUI 60.45cm FHD 게이밍 모니터 리얼 165Hz 1ms MPRT+프리싱크/G-sync 지원 24E4 블랙 #product33_detail.html 85900\n",
      "모니터 LG전자 68.6cm FHD 모니터, 27MQ400C #product34_detail.html 169750\n",
      "모니터 KOORUI 60.45cm FHD Fast IPS 리얼 165Hz 1ms(gtg) 게이밍 모니터 24E3 블랙 [프리싱크/G-sync 지원] #product35_detail.html 139000\n",
      "모니터 주연테크 54.6cm FHD LED 모니터 100Hz, V22FX(일반) #product31_detail.html 89000\n",
      "모니터 LG전자 60.4cm FHD 모니터, 24MQ400C #product32_detail.html 145000\n",
      "모니터 KOORUI 60.45cm FHD 게이밍 모니터 리얼 165Hz 1ms MPRT+프리싱크/G-sync 지원 24E4 블랙 #product33_detail.html 85900\n",
      "모니터 LG전자 68.6cm FHD 모니터, 27MQ400C #product34_detail.html 169750\n",
      "모니터 KOORUI 60.45cm FHD Fast IPS 리얼 165Hz 1ms(gtg) 게이밍 모니터 24E3 블랙 [프리싱크/G-sync 지원] #product35_detail.html 139000\n",
      "모니터 주연테크 54.6cm FHD LED 모니터 100Hz, V22FX(일반) #product31_detail.html 89000\n",
      "모니터 LG전자 60.4cm FHD 모니터, 24MQ400C #product32_detail.html 145000\n",
      "모니터 KOORUI 60.45cm FHD 게이밍 모니터 리얼 165Hz 1ms MPRT+프리싱크/G-sync 지원 24E4 블랙 #product33_detail.html 85900\n",
      "모니터 LG전자 68.6cm FHD 모니터, 27MQ400C #product34_detail.html 169750\n",
      "모니터 KOORUI 60.45cm FHD Fast IPS 리얼 165Hz 1ms(gtg) 게이밍 모니터 24E3 블랙 [프리싱크/G-sync 지원] #product35_detail.html 139000\n",
      "모니터 주연테크 54.6cm FHD LED 모니터 100Hz, V22FX(일반) #product31_detail.html 89000\n",
      "모니터 LG전자 60.4cm FHD 모니터, 24MQ400C #product32_detail.html 145000\n",
      "모니터 KOORUI 60.45cm FHD 게이밍 모니터 리얼 165Hz 1ms MPRT+프리싱크/G-sync 지원 24E4 블랙 #product33_detail.html 85900\n",
      "모니터 LG전자 68.6cm FHD 모니터, 27MQ400C #product34_detail.html 169750\n",
      "모니터 KOORUI 60.45cm FHD Fast IPS 리얼 165Hz 1ms(gtg) 게이밍 모니터 24E3 블랙 [프리싱크/G-sync 지원] #product35_detail.html 139000\n"
     ]
    }
   ],
   "source": [
    "import requests\n",
    "from bs4 import BeautifulSoup\n",
    "\n",
    "for i in range(1, 5):\n",
    "    response = requests.get(f\"https://startcoding.pythonanywhere.com/basic?page={i}\")\n",
    "    html = response.text\n",
    "    soup = BeautifulSoup(html, 'html.parser')\n",
    "    items = soup.select(\".product\")\n",
    "    for item in items:\n",
    "        category = item.select_one(\".product-category\").text\n",
    "        name = item.select_one(\".product-name\").text\n",
    "        link = item.select_one(\".product-name > a\").attrs['href']\n",
    "        price = item.select_one(\".product-price\").text.split('원')[0].replace(',','')\n",
    "        print(category, name, link, price)"
   ]
  }
 ],
 "metadata": {
  "kernelspec": {
   "display_name": "Python 3",
   "language": "python",
   "name": "python3"
  },
  "language_info": {
   "codemirror_mode": {
    "name": "ipython",
    "version": 3
   },
   "file_extension": ".py",
   "mimetype": "text/x-python",
   "name": "python",
   "nbconvert_exporter": "python",
   "pygments_lexer": "ipython3",
   "version": "3.12.4"
  }
 },
 "nbformat": 4,
 "nbformat_minor": 2
}
